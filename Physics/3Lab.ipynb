{
 "cells": [
  {
   "cell_type": "markdown",
   "metadata": {},
   "source": [
    "Colab 🤩 -> https://drive.google.com/file/d/1ZC9i8mvSWyJrytbjefXmFVIsy5u1L0de/view?usp=sharing "
   ]
  },
  {
   "cell_type": "code",
   "execution_count": 200,
   "metadata": {},
   "outputs": [
    {
     "name": "stdout",
     "output_type": "stream",
     "text": [
      "   t1 (с)  Δ h1 (см)  t2 (с)  Δ h2 (см)  t3 (с)  Δ h3 (см)\n",
      "0      21        5.2      49        7.2      79        9.5\n",
      "1      29        5.5      50        8.1      76        9.8\n",
      "2      28        5.5      56        8.5      80       10.3\n"
     ]
    }
   ],
   "source": [
    "import pandas as pd\n",
    "import numpy as np\n",
    "\n",
    "# Данные\n",
    "t1_1, t1_2, t1_3 = 21, 29, 28\n",
    "h1_1, h1_2, h1_3 = 5.2, 5.5, 5.5\n",
    "\n",
    "t2_1, t2_2, t2_3 = 49, 50, 56\n",
    "h2_1, h2_2, h2_3 = 7.2, 8.1, 8.5\n",
    "\n",
    "t3_1, t3_2, t3_3 = 79, 76, 80\n",
    "h3_1, h3_2, h3_3 = 9.5, 9.8, 10.3\n",
    "\n",
    "data = {\n",
    "    \"t1 (с)\": [t1_1, t1_2, t1_3],\n",
    "    \"Δ h1 (см)\": [h1_1, h1_2, h1_3],\n",
    "    \"t2 (с)\": [t2_1, t2_2, t2_3],\n",
    "    \"Δ h2 (см)\": [h2_1, h2_2, h2_3],\n",
    "    \"t3 (с)\": [t3_1, t3_2, t3_3],\n",
    "    \"Δ h3 (см)\": [h3_1, h3_2, h3_3]\n",
    "}\n",
    "\n",
    "df = pd.DataFrame(data)\n",
    "\n",
    "print(df)"
   ]
  },
  {
   "cell_type": "code",
   "execution_count": 201,
   "metadata": {},
   "outputs": [
    {
     "name": "stdout",
     "output_type": "stream",
     "text": [
      "t1 (с): 26.00\n",
      "Δh1 (см): 5.40\n",
      "t2 (с): 51.67\n",
      "Δh2 (см): 7.93\n",
      "t3 (с): 78.33\n",
      "Δh3 (см): 9.87\n"
     ]
    }
   ],
   "source": [
    "V1 = 0.5 * 0.001\n",
    "V2 = 1 * 0.001\n",
    "V3 = 1.5 * 0.001\n",
    "r = 0.580 * 0.001\n",
    "L = 94 * 0.001\n",
    "p = 100_000\n",
    "R = 8.31\n",
    "M = 29 * 10 ** -3\n",
    "k = 1.38 * 10 ** -23\n",
    "T = 21 + 273\n",
    "\n",
    "t1_mean = df[\"t1 (с)\"].mean()\n",
    "Δh1_mean = df[\"Δ h1 (см)\"].mean()\n",
    "t2_mean = df[\"t2 (с)\"].mean()\n",
    "Δh2_mean = df[\"Δ h2 (см)\"].mean()\n",
    "t3_mean = df[\"t3 (с)\"].mean()\n",
    "Δh3_mean = df[\"Δ h3 (см)\"].mean()\n",
    "\n",
    "print(\"t1 (с): {:.2f}\".format(t1_mean))\n",
    "print(\"Δh1 (см): {:.2f}\".format(Δh1_mean))\n",
    "print(\"t2 (с): {:.2f}\".format(t2_mean))\n",
    "print(\"Δh2 (см): {:.2f}\".format(Δh2_mean))\n",
    "print(\"t3 (с): {:.2f}\".format(t3_mean))\n",
    "print(\"Δh3 (см): {:.2f}\".format(Δh3_mean))\n",
    "\n",
    "# см -> м\n",
    "t1_mean = df[\"t1 (с)\"].mean() * 0.01\n",
    "Δh1_mean = df[\"Δ h1 (см)\"].mean() * 0.01\n",
    "t2_mean = df[\"t2 (с)\"].mean() * 0.01\n",
    "Δh2_mean = df[\"Δ h2 (см)\"].mean() * 0.01\n",
    "t3_mean = df[\"t3 (с)\"].mean() * 0.01\n",
    "Δh3_mean = df[\"Δ h3 (см)\"].mean() * 0.01"
   ]
  },
  {
   "cell_type": "code",
   "execution_count": 202,
   "metadata": {},
   "outputs": [
    {
     "data": {
      "text/plain": [
       "1.3268471171744676e-07"
      ]
     },
     "execution_count": 202,
     "metadata": {},
     "output_type": "execute_result"
    }
   ],
   "source": [
    "eta_1 = r **4 * 3.14 * 1000 * 10 * t1_mean * Δh1_mean / (8 * V1 * L)\n",
    "eta_1"
   ]
  },
  {
   "cell_type": "code",
   "execution_count": 203,
   "metadata": {},
   "outputs": [
    {
     "data": {
      "text/plain": [
       "1.9368229721654844e-07"
      ]
     },
     "execution_count": 203,
     "metadata": {},
     "output_type": "execute_result"
    }
   ],
   "source": [
    "eta_2 = r **4 * 3.14 * 1000 * 10 * t2_mean * Δh2_mean / (8 * V2 * L)\n",
    "eta_2"
   ]
  },
  {
   "cell_type": "code",
   "execution_count": 204,
   "metadata": {},
   "outputs": [
    {
     "data": {
      "text/plain": [
       "2.434723157925926e-07"
      ]
     },
     "execution_count": 204,
     "metadata": {},
     "output_type": "execute_result"
    }
   ],
   "source": [
    "eta_3 = r **4 * 3.14 * 1000 * 10 * t3_mean * Δh3_mean / (8 * V3 * L)\n",
    "eta_3"
   ]
  },
  {
   "cell_type": "code",
   "execution_count": 205,
   "metadata": {},
   "outputs": [
    {
     "data": {
      "text/plain": [
       "1.8994644157552925e-07"
      ]
     },
     "execution_count": 205,
     "metadata": {},
     "output_type": "execute_result"
    }
   ],
   "source": [
    "eta = (eta_1 + eta_2 + eta_3) / 3\n",
    "eta"
   ]
  },
  {
   "cell_type": "code",
   "execution_count": 206,
   "metadata": {},
   "outputs": [
    {
     "data": {
      "text/plain": [
       "1.1869970611590002"
      ]
     },
     "execution_count": 206,
     "metadata": {},
     "output_type": "execute_result"
    }
   ],
   "source": [
    "ro = M * p/ (R * T)\n",
    "ro"
   ]
  },
  {
   "cell_type": "code",
   "execution_count": 207,
   "metadata": {},
   "outputs": [
    {
     "data": {
      "text/plain": [
       "2.080294738110656e-07"
      ]
     },
     "execution_count": 207,
     "metadata": {},
     "output_type": "execute_result"
    }
   ],
   "source": [
    "D = 1.3 * eta / ro\n",
    "D"
   ]
  },
  {
   "cell_type": "code",
   "execution_count": 208,
   "metadata": {},
   "outputs": [
    {
     "data": {
      "text/plain": [
       "463.29"
      ]
     },
     "execution_count": 208,
     "metadata": {},
     "output_type": "execute_result"
    }
   ],
   "source": [
    "V_ar = (8 * R * T / (3.14 * M)) ** (1/2)\n",
    "V_ar = round (V_ar,2)\n",
    "V_ar"
   ]
  },
  {
   "cell_type": "code",
   "execution_count": 209,
   "metadata": {},
   "outputs": [
    {
     "data": {
      "text/plain": [
       "1.3470794133980806e-09"
      ]
     },
     "execution_count": 209,
     "metadata": {},
     "output_type": "execute_result"
    }
   ],
   "source": [
    "lambda_ = 3 * D / V_ar\n",
    "lambda_"
   ]
  },
  {
   "cell_type": "code",
   "execution_count": 210,
   "metadata": {},
   "outputs": [
    {
     "data": {
      "text/plain": [
       "2.4647540175490488e+25"
      ]
     },
     "execution_count": 210,
     "metadata": {},
     "output_type": "execute_result"
    }
   ],
   "source": [
    "n = p / (k * T)\n",
    "n"
   ]
  },
  {
   "cell_type": "code",
   "execution_count": 211,
   "metadata": {},
   "outputs": [
    {
     "data": {
      "text/plain": [
       "343921817371.8"
      ]
     },
     "execution_count": 211,
     "metadata": {},
     "output_type": "execute_result"
    }
   ],
   "source": [
    "Z = V_ar / lambda_\n",
    "Z = round(Z,2)\n",
    "Z"
   ]
  },
  {
   "cell_type": "code",
   "execution_count": 212,
   "metadata": {},
   "outputs": [
    {
     "data": {
      "text/plain": [
       "2.608208034937201e-09"
      ]
     },
     "execution_count": 212,
     "metadata": {},
     "output_type": "execute_result"
    }
   ],
   "source": [
    "d = (k * T / (1.41 * 3.14 * lambda_ * p)) ** (1/2)\n",
    "d"
   ]
  }
 ],
 "metadata": {
  "kernelspec": {
   "display_name": "venv",
   "language": "python",
   "name": "python3"
  },
  "language_info": {
   "codemirror_mode": {
    "name": "ipython",
    "version": 3
   },
   "file_extension": ".py",
   "mimetype": "text/x-python",
   "name": "python",
   "nbconvert_exporter": "python",
   "pygments_lexer": "ipython3",
   "version": "3.10.6"
  }
 },
 "nbformat": 4,
 "nbformat_minor": 2
}

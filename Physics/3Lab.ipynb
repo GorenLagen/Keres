{
 "cells": [
  {
   "cell_type": "markdown",
   "metadata": {},
   "source": [
    "Colab 🤩 -> https://drive.google.com/file/d/1ZC9i8mvSWyJrytbjefXmFVIsy5u1L0de/view?usp=sharing "
   ]
  },
  {
   "cell_type": "code",
   "execution_count": 2,
   "metadata": {},
   "outputs": [],
   "source": [
    "import pandas as pd"
   ]
  },
  {
   "cell_type": "code",
   "execution_count": 3,
   "metadata": {},
   "outputs": [
    {
     "data": {
      "text/html": [
       "<div>\n",
       "<style scoped>\n",
       "    .dataframe tbody tr th:only-of-type {\n",
       "        vertical-align: middle;\n",
       "    }\n",
       "\n",
       "    .dataframe tbody tr th {\n",
       "        vertical-align: top;\n",
       "    }\n",
       "\n",
       "    .dataframe thead th {\n",
       "        text-align: right;\n",
       "    }\n",
       "</style>\n",
       "<table border=\"1\" class=\"dataframe\">\n",
       "  <thead>\n",
       "    <tr style=\"text-align: right;\">\n",
       "      <th></th>\n",
       "      <th>t1 (с)</th>\n",
       "      <th>Δ h1 (см)</th>\n",
       "      <th>t2 (с)</th>\n",
       "      <th>Δ h2 (см)</th>\n",
       "      <th>t3 (с)</th>\n",
       "      <th>Δ h3 (см)</th>\n",
       "    </tr>\n",
       "  </thead>\n",
       "  <tbody>\n",
       "    <tr>\n",
       "      <th>0</th>\n",
       "      <td>23</td>\n",
       "      <td>5.0</td>\n",
       "      <td>52</td>\n",
       "      <td>7.5</td>\n",
       "      <td>79</td>\n",
       "      <td>9.5</td>\n",
       "    </tr>\n",
       "    <tr>\n",
       "      <th>1</th>\n",
       "      <td>30</td>\n",
       "      <td>5.5</td>\n",
       "      <td>54</td>\n",
       "      <td>8.0</td>\n",
       "      <td>75</td>\n",
       "      <td>10.0</td>\n",
       "    </tr>\n",
       "    <tr>\n",
       "      <th>2</th>\n",
       "      <td>26</td>\n",
       "      <td>5.0</td>\n",
       "      <td>53</td>\n",
       "      <td>7.5</td>\n",
       "      <td>80</td>\n",
       "      <td>10.5</td>\n",
       "    </tr>\n",
       "  </tbody>\n",
       "</table>\n",
       "</div>"
      ],
      "text/plain": [
       "   t1 (с)  Δ h1 (см)  t2 (с)  Δ h2 (см)  t3 (с)  Δ h3 (см)\n",
       "0      23        5.0      52        7.5      79        9.5\n",
       "1      30        5.5      54        8.0      75       10.0\n",
       "2      26        5.0      53        7.5      80       10.5"
      ]
     },
     "execution_count": 3,
     "metadata": {},
     "output_type": "execute_result"
    }
   ],
   "source": [
    "t1_1, t1_2, t1_3 = 23, 30, 26\n",
    "h1_1, h1_2, h1_3 = 5.0, 5.5, 5.0\n",
    "\n",
    "t2_1, t2_2, t2_3 = 52, 54, 53\n",
    "h2_1, h2_2, h2_3 = 7.5, 8.0, 7.5\n",
    "\n",
    "t3_1, t3_2, t3_3 = 79, 75, 80\n",
    "h3_1, h3_2, h3_3 = 9.5, 10.0, 10.5\n",
    "\n",
    "data = {\n",
    "    \"t1 (с)\": [t1_1, t1_2, t1_3],\n",
    "    \"Δ h1 (см)\": [h1_1, h1_2, h1_3],\n",
    "    \"t2 (с)\": [t2_1, t2_2, t2_3],\n",
    "    \"Δ h2 (см)\": [h2_1, h2_2, h2_3],\n",
    "    \"t3 (с)\": [t3_1, t3_2, t3_3],\n",
    "    \"Δ h3 (см)\": [h3_1, h3_2, h3_3]\n",
    "}\n",
    "\n",
    "df = pd.DataFrame(data)\n",
    "\n",
    "df\n"
   ]
  },
  {
   "cell_type": "code",
   "execution_count": 16,
   "metadata": {},
   "outputs": [
    {
     "name": "stdout",
     "output_type": "stream",
     "text": [
      "t1 (с): 26.33\n",
      "Δh1 (см): 5.17\n",
      "t2 (с): 53.00\n",
      "Δh2 (см): 7.67\n",
      "t3 (с): 78.00\n",
      "Δh3 (см): 10.00\n"
     ]
    }
   ],
   "source": [
    "V1 = 0.5\n",
    "V2 = 1\n",
    "V3 = 1.5\n",
    "r = 0.580\n",
    "p = 100_000\n",
    "L = 94\n",
    "R = 8.31\n",
    "M = 29 * 10 ** -3\n",
    "k = 1.38 * 10 ** -23\n",
    "T = 20 + 273\n",
    "\n",
    "t1_mean = df[\"t1 (с)\"].mean()\n",
    "Δh1_mean = df[\"Δ h1 (см)\"].mean()\n",
    "t2_mean = df[\"t2 (с)\"].mean()\n",
    "Δh2_mean = df[\"Δ h2 (см)\"].mean()\n",
    "t3_mean = df[\"t3 (с)\"].mean()\n",
    "Δh3_mean = df[\"Δ h3 (см)\"].mean()\n",
    "\n",
    "print(\"t1 (с): {:.2f}\".format(t1_mean))\n",
    "print(\"Δh1 (см): {:.2f}\".format(Δh1_mean))\n",
    "print(\"t2 (с): {:.2f}\".format(t2_mean))\n",
    "print(\"Δh2 (см): {:.2f}\".format(Δh2_mean))\n",
    "print(\"t3 (с): {:.2f}\".format(t3_mean))\n",
    "print(\"Δh3 (см): {:.2f}\".format(Δh3_mean))"
   ]
  },
  {
   "cell_type": "code",
   "execution_count": 5,
   "metadata": {},
   "outputs": [
    {
     "data": {
      "text/plain": [
       "1285.79"
      ]
     },
     "execution_count": 5,
     "metadata": {},
     "output_type": "execute_result"
    }
   ],
   "source": [
    "eta_1 = r **4 * 3.14 * 1000 * 10 * t1_mean * Δh1_mean / (8 * V1 * L)\n",
    "eta_1 = round(eta_1, 2)\n",
    "eta_1"
   ]
  },
  {
   "cell_type": "code",
   "execution_count": 6,
   "metadata": {},
   "outputs": [
    {
     "data": {
      "text/plain": [
       "1920.02"
      ]
     },
     "execution_count": 6,
     "metadata": {},
     "output_type": "execute_result"
    }
   ],
   "source": [
    "eta_2 = r **4 * 3.14 * 1000 * 10 * t2_mean * Δh2_mean / (8 * V2 * L)\n",
    "eta_2 = round(eta_2, 2)\n",
    "eta_2"
   ]
  },
  {
   "cell_type": "code",
   "execution_count": 7,
   "metadata": {},
   "outputs": [
    {
     "data": {
      "text/plain": [
       "2457.12"
      ]
     },
     "execution_count": 7,
     "metadata": {},
     "output_type": "execute_result"
    }
   ],
   "source": [
    "eta_3 = r **4 * 3.14 * 1000 * 10 * t3_mean * Δh3_mean / (8 * V3 * L)\n",
    "eta_3 = round(eta_3, 2)\n",
    "eta_3"
   ]
  },
  {
   "cell_type": "code",
   "execution_count": 8,
   "metadata": {},
   "outputs": [
    {
     "data": {
      "text/plain": [
       "1887.64"
      ]
     },
     "execution_count": 8,
     "metadata": {},
     "output_type": "execute_result"
    }
   ],
   "source": [
    "eta = (eta_1 + eta_2 + eta_3) / 3\n",
    "eta = round(eta,2)\n",
    "eta"
   ]
  },
  {
   "cell_type": "code",
   "execution_count": 9,
   "metadata": {},
   "outputs": [
    {
     "data": {
      "text/plain": [
       "1.19"
      ]
     },
     "execution_count": 9,
     "metadata": {},
     "output_type": "execute_result"
    }
   ],
   "source": [
    "ro = M * p/ (R * T)\n",
    "round(ro,2)"
   ]
  },
  {
   "cell_type": "code",
   "execution_count": 10,
   "metadata": {},
   "outputs": [
    {
     "data": {
      "text/plain": [
       "2060.31"
      ]
     },
     "execution_count": 10,
     "metadata": {},
     "output_type": "execute_result"
    }
   ],
   "source": [
    "D = 1.3 * eta / ro\n",
    "D = round(D,2)\n",
    "D"
   ]
  },
  {
   "cell_type": "code",
   "execution_count": 11,
   "metadata": {},
   "outputs": [
    {
     "data": {
      "text/plain": [
       "462.5"
      ]
     },
     "execution_count": 11,
     "metadata": {},
     "output_type": "execute_result"
    }
   ],
   "source": [
    "V_ar = (8 * R * T / (3.14 * M)) ** (1/2)\n",
    "V_ar = round (V_ar,2)\n",
    "V_ar"
   ]
  },
  {
   "cell_type": "code",
   "execution_count": 12,
   "metadata": {},
   "outputs": [
    {
     "data": {
      "text/plain": [
       "13.36"
      ]
     },
     "execution_count": 12,
     "metadata": {},
     "output_type": "execute_result"
    }
   ],
   "source": [
    "lambda_ = 3 * D / V_ar\n",
    "lambda_ = round(lambda_,2)\n",
    "lambda_"
   ]
  },
  {
   "cell_type": "code",
   "execution_count": 13,
   "metadata": {},
   "outputs": [
    {
     "data": {
      "text/plain": [
       "2.473166147301776e+25"
      ]
     },
     "execution_count": 13,
     "metadata": {},
     "output_type": "execute_result"
    }
   ],
   "source": [
    "n = p / (k * T)\n",
    "n"
   ]
  },
  {
   "cell_type": "code",
   "execution_count": 14,
   "metadata": {},
   "outputs": [
    {
     "data": {
      "text/plain": [
       "34.62"
      ]
     },
     "execution_count": 14,
     "metadata": {},
     "output_type": "execute_result"
    }
   ],
   "source": [
    "Z = V_ar / lambda_\n",
    "Z = round(Z,2)\n",
    "Z"
   ]
  },
  {
   "cell_type": "code",
   "execution_count": 15,
   "metadata": {},
   "outputs": [
    {
     "data": {
      "text/plain": [
       "2.6145427297440655e-14"
      ]
     },
     "execution_count": 15,
     "metadata": {},
     "output_type": "execute_result"
    }
   ],
   "source": [
    "d = (k * T / (1.41 * 3.14 * lambda_ * p)) ** (1/2)\n",
    "d"
   ]
  }
 ],
 "metadata": {
  "kernelspec": {
   "display_name": "venv",
   "language": "python",
   "name": "python3"
  },
  "language_info": {
   "codemirror_mode": {
    "name": "ipython",
    "version": 3
   },
   "file_extension": ".py",
   "mimetype": "text/x-python",
   "name": "python",
   "nbconvert_exporter": "python",
   "pygments_lexer": "ipython3",
   "version": "3.10.6"
  }
 },
 "nbformat": 4,
 "nbformat_minor": 2
}

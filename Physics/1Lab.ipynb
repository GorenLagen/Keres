{
 "cells": [
  {
   "cell_type": "markdown",
   "metadata": {},
   "source": [
    "Colab🤩 -> https://drive.google.com/file/d/1dduQbMh8PcGC1ygVNl9sBPeed8w1Tf2y/view?usp=sharing"
   ]
  },
  {
   "cell_type": "code",
   "execution_count": 2,
   "metadata": {},
   "outputs": [],
   "source": [
    "import pandas as pd\n",
    "import numpy as np\n",
    "import matplotlib.pyplot as plt\n",
    "import seaborn as sns\n",
    "from IPython.display import display"
   ]
  },
  {
   "cell_type": "code",
   "execution_count": 3,
   "metadata": {},
   "outputs": [],
   "source": [
    "U_dc = [10, 12, 14, 16, 18, 20, 22]\n",
    "I_dc = [16, 23, 28, 32, 37, 42, 47]\n",
    "\n",
    "U_dl = [10, 12, 14, 16, 18, 20, 22]\n",
    "I_dl = [15, 23, 28, 32, 36, 41, 46]\n",
    "\n",
    "U_d = [10, 12, 14, 16, 18, 20, 22]\n",
    "I_d = [15, 23, 28, 32, 36, 41, 46]\n",
    "\n",
    "data_5_1 = {'U_ДС (В)': U_dc, 'I_ДС (мА)': I_dc}\n",
    "data_5_2 = {'U_ДL (В)': U_dl, 'I_ДL (мА)': I_dl}\n",
    "data_5_3 = {'U_d (В)': U_d, 'I_d (мА)': I_d}\n",
    "\n",
    "df_5_1 = pd.DataFrame(data_5_1)\n",
    "df_5_2 = pd.DataFrame(data_5_2)\n",
    "df_5_3 = pd.DataFrame(data_5_3)"
   ]
  },
  {
   "cell_type": "code",
   "execution_count": 4,
   "metadata": {},
   "outputs": [],
   "source": [
    "# Перевод из mA -> A\n",
    "\n",
    "df_5_1[\"I_ДС (мА)\"] = df_5_1[\"I_ДС (мА)\"].apply(lambda x: x * 10 ** -3)\n",
    "df_5_2[\"I_ДL (мА)\"] = df_5_2[\"I_ДL (мА)\"].apply(lambda x: x * 10 ** -3)\n",
    "df_5_3[\"I_d (мА)\"] = df_5_3[\"I_d (мА)\"].apply(lambda x: x * 10 ** -3)"
   ]
  },
  {
   "cell_type": "code",
   "execution_count": 5,
   "metadata": {},
   "outputs": [],
   "source": [
    "# U_dc = [10, 12, 14, 16, 18, 20, 22]\n",
    "# I_dc = [27, 37, 44, 50, 56, 61, 66]\n",
    "\n",
    "# U_dl = [10, 12, 14, 16, 18, 20, 22]\n",
    "# I_dl = [25, 33, 39, 43, 48, 53, 57]\n",
    "\n",
    "# U_d = [10, 12, 14, 16, 18, 20, 22]\n",
    "# I_d = [34, 44, 54, 60, 67, 72, 77]\n",
    "\n",
    "# data_5_1 = {\n",
    "#     'U_ДС (В)': U_dc,\n",
    "#     'I_ДС (мА)': I_dc\n",
    "# }\n",
    "\n",
    "# data_5_2 = {\n",
    "#     'U_ДL (В)': U_dl,\n",
    "#     'I_ДL (мА)': I_dl\n",
    "# }\n",
    "\n",
    "# data_5_3 = {\n",
    "#     'U_d (В)': U_d,\n",
    "#     'I_d (мА)': I_d\n",
    "# }\n",
    "\n",
    "# df_5_1 = pd.DataFrame(data_5_1)\n",
    "# df_5_2 = pd.DataFrame(data_5_2)\n",
    "# df_5_3 = pd.DataFrame(data_5_3)"
   ]
  },
  {
   "cell_type": "code",
   "execution_count": 6,
   "metadata": {},
   "outputs": [],
   "source": [
    "# df_5_1[\"I_ДС (мА)\"] = df_5_1[\"I_ДС (мА)\"].apply(lambda x: x * 10 ** -3)\n",
    "# df_5_2[\"I_ДL (мА)\"] = df_5_2[\"I_ДL (мА)\"].apply(lambda x: x * 10 ** -3)\n",
    "# df_5_3[\"I_d (мА)\"] = df_5_3[\"I_d (мА)\"].apply(lambda x: x * 10 ** -3)"
   ]
  },
  {
   "cell_type": "code",
   "execution_count": 7,
   "metadata": {},
   "outputs": [
    {
     "data": {
      "text/html": [
       "<div>\n",
       "<style scoped>\n",
       "    .dataframe tbody tr th:only-of-type {\n",
       "        vertical-align: middle;\n",
       "    }\n",
       "\n",
       "    .dataframe tbody tr th {\n",
       "        vertical-align: top;\n",
       "    }\n",
       "\n",
       "    .dataframe thead th {\n",
       "        text-align: right;\n",
       "    }\n",
       "</style>\n",
       "<table border=\"1\" class=\"dataframe\">\n",
       "  <thead>\n",
       "    <tr style=\"text-align: right;\">\n",
       "      <th></th>\n",
       "      <th>0</th>\n",
       "      <th>1</th>\n",
       "      <th>2</th>\n",
       "      <th>3</th>\n",
       "      <th>4</th>\n",
       "      <th>5</th>\n",
       "      <th>6</th>\n",
       "    </tr>\n",
       "  </thead>\n",
       "  <tbody>\n",
       "    <tr>\n",
       "      <th>U_ДС (В)</th>\n",
       "      <td>10.000</td>\n",
       "      <td>12.000</td>\n",
       "      <td>14.000</td>\n",
       "      <td>16.000</td>\n",
       "      <td>18.000</td>\n",
       "      <td>20.000</td>\n",
       "      <td>22.000</td>\n",
       "    </tr>\n",
       "    <tr>\n",
       "      <th>I_ДС (мА)</th>\n",
       "      <td>0.016</td>\n",
       "      <td>0.023</td>\n",
       "      <td>0.028</td>\n",
       "      <td>0.032</td>\n",
       "      <td>0.037</td>\n",
       "      <td>0.042</td>\n",
       "      <td>0.047</td>\n",
       "    </tr>\n",
       "  </tbody>\n",
       "</table>\n",
       "</div>"
      ],
      "text/plain": [
       "                0       1       2       3       4       5       6\n",
       "U_ДС (В)   10.000  12.000  14.000  16.000  18.000  20.000  22.000\n",
       "I_ДС (мА)   0.016   0.023   0.028   0.032   0.037   0.042   0.047"
      ]
     },
     "metadata": {},
     "output_type": "display_data"
    },
    {
     "data": {
      "text/html": [
       "<div>\n",
       "<style scoped>\n",
       "    .dataframe tbody tr th:only-of-type {\n",
       "        vertical-align: middle;\n",
       "    }\n",
       "\n",
       "    .dataframe tbody tr th {\n",
       "        vertical-align: top;\n",
       "    }\n",
       "\n",
       "    .dataframe thead th {\n",
       "        text-align: right;\n",
       "    }\n",
       "</style>\n",
       "<table border=\"1\" class=\"dataframe\">\n",
       "  <thead>\n",
       "    <tr style=\"text-align: right;\">\n",
       "      <th></th>\n",
       "      <th>0</th>\n",
       "      <th>1</th>\n",
       "      <th>2</th>\n",
       "      <th>3</th>\n",
       "      <th>4</th>\n",
       "      <th>5</th>\n",
       "      <th>6</th>\n",
       "    </tr>\n",
       "  </thead>\n",
       "  <tbody>\n",
       "    <tr>\n",
       "      <th>U_ДL (В)</th>\n",
       "      <td>10.000</td>\n",
       "      <td>12.000</td>\n",
       "      <td>14.000</td>\n",
       "      <td>16.000</td>\n",
       "      <td>18.000</td>\n",
       "      <td>20.000</td>\n",
       "      <td>22.000</td>\n",
       "    </tr>\n",
       "    <tr>\n",
       "      <th>I_ДL (мА)</th>\n",
       "      <td>0.015</td>\n",
       "      <td>0.023</td>\n",
       "      <td>0.028</td>\n",
       "      <td>0.032</td>\n",
       "      <td>0.036</td>\n",
       "      <td>0.041</td>\n",
       "      <td>0.046</td>\n",
       "    </tr>\n",
       "  </tbody>\n",
       "</table>\n",
       "</div>"
      ],
      "text/plain": [
       "                0       1       2       3       4       5       6\n",
       "U_ДL (В)   10.000  12.000  14.000  16.000  18.000  20.000  22.000\n",
       "I_ДL (мА)   0.015   0.023   0.028   0.032   0.036   0.041   0.046"
      ]
     },
     "metadata": {},
     "output_type": "display_data"
    },
    {
     "data": {
      "text/html": [
       "<div>\n",
       "<style scoped>\n",
       "    .dataframe tbody tr th:only-of-type {\n",
       "        vertical-align: middle;\n",
       "    }\n",
       "\n",
       "    .dataframe tbody tr th {\n",
       "        vertical-align: top;\n",
       "    }\n",
       "\n",
       "    .dataframe thead th {\n",
       "        text-align: right;\n",
       "    }\n",
       "</style>\n",
       "<table border=\"1\" class=\"dataframe\">\n",
       "  <thead>\n",
       "    <tr style=\"text-align: right;\">\n",
       "      <th></th>\n",
       "      <th>0</th>\n",
       "      <th>1</th>\n",
       "      <th>2</th>\n",
       "      <th>3</th>\n",
       "      <th>4</th>\n",
       "      <th>5</th>\n",
       "      <th>6</th>\n",
       "    </tr>\n",
       "  </thead>\n",
       "  <tbody>\n",
       "    <tr>\n",
       "      <th>U_d (В)</th>\n",
       "      <td>10.000</td>\n",
       "      <td>12.000</td>\n",
       "      <td>14.000</td>\n",
       "      <td>16.000</td>\n",
       "      <td>18.000</td>\n",
       "      <td>20.000</td>\n",
       "      <td>22.000</td>\n",
       "    </tr>\n",
       "    <tr>\n",
       "      <th>I_d (мА)</th>\n",
       "      <td>0.015</td>\n",
       "      <td>0.023</td>\n",
       "      <td>0.028</td>\n",
       "      <td>0.032</td>\n",
       "      <td>0.036</td>\n",
       "      <td>0.041</td>\n",
       "      <td>0.046</td>\n",
       "    </tr>\n",
       "  </tbody>\n",
       "</table>\n",
       "</div>"
      ],
      "text/plain": [
       "               0       1       2       3       4       5       6\n",
       "U_d (В)   10.000  12.000  14.000  16.000  18.000  20.000  22.000\n",
       "I_d (мА)   0.015   0.023   0.028   0.032   0.036   0.041   0.046"
      ]
     },
     "metadata": {},
     "output_type": "display_data"
    }
   ],
   "source": [
    "display(df_5_1.T)\n",
    "display(df_5_2.T)\n",
    "display(df_5_3.T)"
   ]
  },
  {
   "cell_type": "code",
   "execution_count": 8,
   "metadata": {},
   "outputs": [
    {
     "data": {
      "image/png": "[encoded data removed]",
      "text/plain": [
       "<Figure size 800x600 with 1 Axes>"
      ]
     },
     "metadata": {},
     "output_type": "display_data"
    }
   ],
   "source": [
    "plt.figure(figsize=(8, 6))\n",
    "sns.regplot(y=df_5_1[\"U_ДС (В)\"], x=df_5_1[\"I_ДС (мА)\"], marker='o' )\n",
    "\n",
    "plt.ylabel('U_ДС (В)')\n",
    "plt.xlabel('I_ДС (мА)')\n",
    "plt.grid(True)\n",
    "\n",
    "plt.show()"
   ]
  },
  {
   "cell_type": "code",
   "execution_count": 9,
   "metadata": {},
   "outputs": [
    {
     "data": {
      "text/plain": [
       "398.3739837398373"
      ]
     },
     "execution_count": 9,
     "metadata": {},
     "output_type": "execute_result"
    }
   ],
   "source": [
    "from scipy.stats import linregress\n",
    "_ = linregress( x = df_5_1[\"I_ДС (мА)\"], y = df_5_1[\"U_ДС (В)\"])\n",
    "X_c = _.slope\n",
    "X_c"
   ]
  },
  {
   "cell_type": "code",
   "execution_count": 10,
   "metadata": {},
   "outputs": [
    {
     "data": {
      "text/plain": [
       "314"
      ]
     },
     "execution_count": 10,
     "metadata": {},
     "output_type": "execute_result"
    }
   ],
   "source": [
    "OMEGA = 2 * np.pi * 50\n",
    "OMEGA = round(OMEGA)\n",
    "OMEGA"
   ]
  },
  {
   "cell_type": "code",
   "execution_count": 11,
   "metadata": {},
   "outputs": [
    {
     "data": {
      "text/plain": [
       "7.994280514753675e-06"
      ]
     },
     "execution_count": 11,
     "metadata": {},
     "output_type": "execute_result"
    }
   ],
   "source": [
    "C = 1/(OMEGA * X_c)\n",
    "C = C\n",
    "C"
   ]
  },
  {
   "cell_type": "code",
   "execution_count": 12,
   "metadata": {},
   "outputs": [
    {
     "data": {
      "image/png": "[encoded data removed]",
      "text/plain": [
       "<Figure size 800x600 with 1 Axes>"
      ]
     },
     "metadata": {},
     "output_type": "display_data"
    }
   ],
   "source": [
    "plt.figure(figsize=(8, 6))\n",
    "sns.regplot(x=\"I_ДL (мА)\", y=\"U_ДL (В)\", data=df_5_2, marker='o')\n",
    "\n",
    "plt.ylabel('U_ДL (В)')\n",
    "plt.xlabel('I_ДL (мА)')\n",
    "plt.grid(True)\n",
    "\n",
    "plt.show()"
   ]
  },
  {
   "cell_type": "code",
   "execution_count": 13,
   "metadata": {},
   "outputs": [
    {
     "data": {
      "text/plain": [
       "404.3001686340641"
      ]
     },
     "execution_count": 13,
     "metadata": {},
     "output_type": "execute_result"
    }
   ],
   "source": [
    "from scipy.stats import linregress\n",
    "_ = linregress( x = df_5_2[\"I_ДL (мА)\"], y = df_5_2[\"U_ДL (В)\"])\n",
    "Z_L = _.slope\n",
    "Z_L = Z_L\n",
    "Z_L"
   ]
  },
  {
   "cell_type": "code",
   "execution_count": 14,
   "metadata": {},
   "outputs": [
    {
     "data": {
      "text/plain": [
       "314"
      ]
     },
     "execution_count": 14,
     "metadata": {},
     "output_type": "execute_result"
    }
   ],
   "source": [
    "OMEGA"
   ]
  },
  {
   "cell_type": "code",
   "execution_count": 15,
   "metadata": {},
   "outputs": [
    {
     "data": {
      "text/plain": [
       "1.2856724831778492"
      ]
     },
     "execution_count": 15,
     "metadata": {},
     "output_type": "execute_result"
    }
   ],
   "source": [
    "R_l = 22\n",
    "L = (1/OMEGA) * ((Z_L ** 2 - R_l ** 2) ** (1/2))\n",
    "L"
   ]
  },
  {
   "cell_type": "code",
   "execution_count": 16,
   "metadata": {},
   "outputs": [
    {
     "data": {
      "text/html": [
       "<div>\n",
       "<style scoped>\n",
       "    .dataframe tbody tr th:only-of-type {\n",
       "        vertical-align: middle;\n",
       "    }\n",
       "\n",
       "    .dataframe tbody tr th {\n",
       "        vertical-align: top;\n",
       "    }\n",
       "\n",
       "    .dataframe thead th {\n",
       "        text-align: right;\n",
       "    }\n",
       "</style>\n",
       "<table border=\"1\" class=\"dataframe\">\n",
       "  <thead>\n",
       "    <tr style=\"text-align: right;\">\n",
       "      <th></th>\n",
       "      <th>0</th>\n",
       "      <th>1</th>\n",
       "      <th>2</th>\n",
       "      <th>3</th>\n",
       "      <th>4</th>\n",
       "      <th>5</th>\n",
       "      <th>6</th>\n",
       "    </tr>\n",
       "  </thead>\n",
       "  <tbody>\n",
       "    <tr>\n",
       "      <th>U_d (В)</th>\n",
       "      <td>10.000000</td>\n",
       "      <td>12.000000</td>\n",
       "      <td>14.000000</td>\n",
       "      <td>16.000000</td>\n",
       "      <td>18.000000</td>\n",
       "      <td>20.000000</td>\n",
       "      <td>22.000000</td>\n",
       "    </tr>\n",
       "    <tr>\n",
       "      <th>I_d (мА)</th>\n",
       "      <td>0.015000</td>\n",
       "      <td>0.023000</td>\n",
       "      <td>0.028000</td>\n",
       "      <td>0.032000</td>\n",
       "      <td>0.036000</td>\n",
       "      <td>0.041000</td>\n",
       "      <td>0.046000</td>\n",
       "    </tr>\n",
       "    <tr>\n",
       "      <th>U_m</th>\n",
       "      <td>4.472136</td>\n",
       "      <td>4.898979</td>\n",
       "      <td>5.291503</td>\n",
       "      <td>5.656854</td>\n",
       "      <td>6.000000</td>\n",
       "      <td>6.324555</td>\n",
       "      <td>6.633250</td>\n",
       "    </tr>\n",
       "    <tr>\n",
       "      <th>I_m</th>\n",
       "      <td>0.173205</td>\n",
       "      <td>0.214476</td>\n",
       "      <td>0.236643</td>\n",
       "      <td>0.252982</td>\n",
       "      <td>0.268328</td>\n",
       "      <td>0.286356</td>\n",
       "      <td>0.303315</td>\n",
       "    </tr>\n",
       "  </tbody>\n",
       "</table>\n",
       "</div>"
      ],
      "text/plain": [
       "                  0          1          2          3          4          5  \\\n",
       "U_d (В)   10.000000  12.000000  14.000000  16.000000  18.000000  20.000000   \n",
       "I_d (мА)   0.015000   0.023000   0.028000   0.032000   0.036000   0.041000   \n",
       "U_m        4.472136   4.898979   5.291503   5.656854   6.000000   6.324555   \n",
       "I_m        0.173205   0.214476   0.236643   0.252982   0.268328   0.286356   \n",
       "\n",
       "                  6  \n",
       "U_d (В)   22.000000  \n",
       "I_d (мА)   0.046000  \n",
       "U_m        6.633250  \n",
       "I_m        0.303315  "
      ]
     },
     "execution_count": 16,
     "metadata": {},
     "output_type": "execute_result"
    }
   ],
   "source": [
    "df_5_3[\"U_m\"] = df_5_3[\"U_d (В)\"].apply(lambda x: ((2 * x) ** (1/2)))\n",
    "df_5_3[\"I_m\"] = df_5_3[\"I_d (мА)\"].apply(lambda x: ((2 * x) ** (1/2)))\n",
    "df_5_3.T"
   ]
  },
  {
   "cell_type": "code",
   "execution_count": 17,
   "metadata": {},
   "outputs": [
    {
     "data": {
      "image/png": "[encoded data removed]",
      "text/plain": [
       "<Figure size 800x600 with 1 Axes>"
      ]
     },
     "metadata": {},
     "output_type": "display_data"
    },
    {
     "data": {
      "text/plain": [
       "17.326476990198934"
      ]
     },
     "metadata": {},
     "output_type": "display_data"
    }
   ],
   "source": [
    "\n",
    "plt.figure(figsize=(8, 6))\n",
    "sns.regplot(y=df_5_3['U_m'], x = df_5_3['I_m'], marker='o')\n",
    "\n",
    "plt.ylabel('U_m')\n",
    "plt.xlabel('I_m')\n",
    "plt.grid(True)\n",
    "\n",
    "plt.show()\n",
    "\n",
    "regression_result_m = linregress(y = df_5_3[\"U_m\"], x = df_5_3['I_m'])\n",
    "Z = regression_result_m.slope\n",
    "display(Z)"
   ]
  },
  {
   "cell_type": "code",
   "execution_count": 18,
   "metadata": {},
   "outputs": [
    {
     "name": "stdout",
     "output_type": "stream",
     "text": [
      "403.70115971784463 403.70115971784463 398.37398373983723\n"
     ]
    }
   ],
   "source": [
    "x_1 = OMEGA * L\n",
    "x_2 = OMEGA * L\n",
    "x_3 = 1/(OMEGA * C)\n",
    "print(x_1,x_2,x_3)"
   ]
  },
  {
   "cell_type": "code",
   "execution_count": 19,
   "metadata": {},
   "outputs": [
    {
     "data": {
      "text/plain": [
       "240.05911522768858"
      ]
     },
     "execution_count": 19,
     "metadata": {},
     "output_type": "execute_result"
    }
   ],
   "source": [
    "R = 240\n",
    "Z_alt = (R**2 + (OMEGA * L - 1/(OMEGA * C)) ** 2) ** (1/2)\n",
    "Z_alt"
   ]
  },
  {
   "cell_type": "markdown",
   "metadata": {},
   "source": [
    "# Построение Векторной диаграммы\n",
    "Теперь R = R_l"
   ]
  },
  {
   "cell_type": "code",
   "execution_count": 20,
   "metadata": {},
   "outputs": [],
   "source": [
    "R = R_l = 240"
   ]
  },
  {
   "cell_type": "code",
   "execution_count": 24,
   "metadata": {},
   "outputs": [
    {
     "data": {
      "text/plain": [
       "0.32"
      ]
     },
     "metadata": {},
     "output_type": "display_data"
    },
    {
     "data": {
      "text/plain": [
       "130.74"
      ]
     },
     "metadata": {},
     "output_type": "display_data"
    },
    {
     "data": {
      "text/plain": [
       "129.01"
      ]
     },
     "metadata": {},
     "output_type": "display_data"
    },
    {
     "data": {
      "text/plain": [
       "77.72"
      ]
     },
     "metadata": {},
     "output_type": "display_data"
    }
   ],
   "source": [
    "df = pd.DataFrame()\n",
    "df[\"I_m\"] = df_5_3[\"U_m\"].apply(lambda x: x/Z)\n",
    "df[\"U_L\"] = df[\"I_m\"].apply(lambda x: x * OMEGA * L)\n",
    "df[\"U_c\"] = df[\"I_m\"].apply(lambda x: x / (OMEGA * C))\n",
    "df[\"U_r\"] = df[\"I_m\"].apply(lambda x: x * R)\n",
    "\n",
    "I_m = (round(df[\"I_m\"].mean(),2))\n",
    "U_L = (round(df[\"U_L\"].mean(),2))\n",
    "U_c = (round(df[\"U_c\"].mean(),2))\n",
    "U_r = (round(df[\"U_r\"].mean(),2))\n",
    "\n",
    "display(I_m)\n",
    "display(U_L)\n",
    "display(U_c)\n",
    "display(U_r)"
   ]
  },
  {
   "cell_type": "code",
   "execution_count": 22,
   "metadata": {},
   "outputs": [
    {
     "ename": "NameError",
     "evalue": "name 'U_r' is not defined",
     "output_type": "error",
     "traceback": [
      "\u001b[1;31m---------------------------------------------------------------------------\u001b[0m",
      "\u001b[1;31mNameError\u001b[0m                                 Traceback (most recent call last)",
      "Cell \u001b[1;32mIn[22], line 1\u001b[0m\n\u001b[1;32m----> 1\u001b[0m U_m \u001b[38;5;241m=\u001b[39m (\u001b[43mU_r\u001b[49m \u001b[38;5;241m*\u001b[39m\u001b[38;5;241m*\u001b[39m \u001b[38;5;241m2\u001b[39m \u001b[38;5;241m+\u001b[39m (U_L \u001b[38;5;241m-\u001b[39m U_c) \u001b[38;5;241m*\u001b[39m\u001b[38;5;241m*\u001b[39m \u001b[38;5;241m2\u001b[39m) \u001b[38;5;241m*\u001b[39m\u001b[38;5;241m*\u001b[39m (\u001b[38;5;241m1\u001b[39m\u001b[38;5;241m/\u001b[39m\u001b[38;5;241m2\u001b[39m) \n\u001b[0;32m      2\u001b[0m U_m\n",
      "\u001b[1;31mNameError\u001b[0m: name 'U_r' is not defined"
     ]
    }
   ],
   "source": [
    "U_m = (U_r ** 2 + (U_L - U_c) ** 2) ** (1/2) \n",
    "U_m"
   ]
  },
  {
   "cell_type": "code",
   "execution_count": 173,
   "metadata": {},
   "outputs": [
    {
     "data": {
      "text/plain": [
       "668.440271889376"
      ]
     },
     "execution_count": 173,
     "metadata": {},
     "output_type": "execute_result"
    }
   ],
   "source": [
    "tg_fi = ((OMEGA * L - 1) / (OMEGA * C)) / R_l\n",
    "tg_fi"
   ]
  },
  {
   "cell_type": "code",
   "execution_count": 174,
   "metadata": {},
   "outputs": [
    {
     "data": {
      "text/plain": [
       "1.5693003079342298"
      ]
     },
     "execution_count": 174,
     "metadata": {},
     "output_type": "execute_result"
    }
   ],
   "source": [
    "np.arctan(tg_fi)"
   ]
  }
 ],
 "metadata": {
  "kernelspec": {
   "display_name": "venv",
   "language": "python",
   "name": "python3"
  },
  "language_info": {
   "codemirror_mode": {
    "name": "ipython",
    "version": 3
   },
   "file_extension": ".py",
   "mimetype": "text/x-python",
   "name": "python",
   "nbconvert_exporter": "python",
   "pygments_lexer": "ipython3",
   "version": "3.10.6"
  }
 },
 "nbformat": 4,
 "nbformat_minor": 2
}

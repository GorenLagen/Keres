{
 "cells": [
  {
   "cell_type": "markdown",
   "metadata": {},
   "source": [
    "Colab🤩 -> https://drive.google.com/file/d/19teNLYeBK9pCXvG19-gct7TdJryV8feC/view?usp=sharing"
   ]
  },
  {
   "cell_type": "code",
   "execution_count": 1,
   "metadata": {},
   "outputs": [],
   "source": [
    "import pandas as pd\n",
    "import numpy as np\n",
    "import matplotlib.pyplot as plt\n",
    "import seaborn as sns\n",
    "from IPython.display import display"
   ]
  },
  {
   "cell_type": "code",
   "execution_count": 2,
   "metadata": {},
   "outputs": [],
   "source": [
    "U_dc1, U_dc2, U_dc3, U_dc4, U_dc5, U_dc6, U_dc7 = 10, 12, 14, 16, 18, 20, 22\n",
    "I_dc1, I_dc2, I_dc3, I_dc4, I_dc5, I_dc6, I_dc7 = 16, 23, 28, 32, 37, 42, 47\n",
    "\n",
    "data_5_1 = {'U_ДС (В)': [U_dc1, U_dc2, U_dc3, U_dc4, U_dc5, U_dc6, U_dc7],\n",
    "            'I_ДС (мА)': [I_dc1, I_dc2, I_dc3, I_dc4, I_dc5, I_dc6, I_dc7]}\n",
    "\n",
    "df_5_1 = pd.DataFrame(data_5_1)\n",
    "\n",
    "U_dl1, U_dl2, U_dl3, U_dl4, U_dl5, U_dl6, U_dl7 = 10, 12, 14, 16, 18, 20, 22\n",
    "I_dl1, I_dl2, I_dl3, I_dl4, I_dl5, I_dl6, I_dl7 = 15, 23, 28, 32, 36, 41, 46\n",
    "\n",
    "data_5_2 = {'U_ДL (В)': [U_dl1, U_dl2, U_dl3, U_dl4, U_dl5, U_dl6, U_dl7],\n",
    "            'I_ДL (мА)': [I_dl1, I_dl2, I_dl3, I_dl4, I_dl5, I_dl6, I_dl7]}\n",
    "\n",
    "df_5_2 = pd.DataFrame(data_5_2)\n",
    "\n",
    "U_d1, U_d2, U_d3, U_d4, U_d5, U_d6, U_d7 = 10, 12, 14, 16, 18, 20, 22\n",
    "I_d1, I_d2, I_d3, I_d4, I_d5, I_d6, I_d7 = 15, 23, 28, 32, 36, 41, 46\n",
    "\n",
    "data_5_3 = {'U_d (В)': [U_d1, U_d2, U_d3, U_d4, U_d5, U_d6, U_d7],\n",
    "            'I_d (мА)': [I_d1, I_d2, I_d3, I_d4, I_d5, I_d6, I_d7]}\n",
    "\n",
    "df_5_3 = pd.DataFrame(data_5_3)\n"
   ]
  },
  {
   "cell_type": "code",
   "execution_count": 3,
   "metadata": {},
   "outputs": [],
   "source": [
    "# U_dc1, U_dc2, U_dc3, U_dc4, U_dc5, U_dc6, U_dc7 = 10, 12, 14, 16, 18, 20, 22\n",
    "# I_dc1, I_dc2, I_dc3, I_dc4, I_dc5, I_dc6, I_dc7 = 27, 37, 44, 50, 56, 61, 66\n",
    "\n",
    "# data_5_1 = {\n",
    "#     'U_dc (В)': [U_dc1, U_dc2, U_dc3, U_dc4, U_dc5, U_dc6, U_dc7],\n",
    "#     'I_dc (мА)': [I_dc1, I_dc2, I_dc3, I_dc4, I_dc5, I_dc6, I_dc7]\n",
    "# }\n",
    "# df_5_1 = pd.DataFrame(data_5_1)\n",
    "\n",
    "# U_dl1, U_dl2, U_dl3, U_dl4, U_dl5, U_dl6, U_dl7 = 10, 12, 14, 16, 18, 20, 22\n",
    "# I_dl1, I_dl2, I_dl3, I_dl4, I_dl5, I_dl6, I_dl7 = 25, 33, 39, 43, 48, 53, 57\n",
    "\n",
    "# data_5_2 = {\n",
    "#     'U_dl (В)': [U_dl1, U_dl2, U_dl3, U_dl4, U_dl5, U_dl6, U_dl7],\n",
    "#     'I_dl (мА)': [I_dl1, I_dl2, I_dl3, I_dl4, I_dl5, I_dl6, I_dl7]\n",
    "# }\n",
    "# df_5_2 = pd.DataFrame(data_5_2)\n",
    "\n",
    "# U_d1, U_d2, U_d3, U_d4, U_d5, U_d6, U_d7 = 10, 12, 14, 16, 18, 20, 22\n",
    "# I_d1, I_d2, I_d3, I_d4, I_d5, I_d6, I_d7 = 34, 44, 54, 60, 67, 72, 77\n",
    "\n",
    "# data_5_3 = {\n",
    "#     'U_d (В)': [U_d1, U_d2, U_d3, U_d4, U_d5, U_d6, U_d7],\n",
    "#     'I_d (мА)': [I_d1, I_d2, I_d3, I_d4, I_d5, I_d6, I_d7]\n",
    "# }\n",
    "# df_5_3 = pd.DataFrame(data_5_3)\n"
   ]
  },
  {
   "cell_type": "code",
   "execution_count": 4,
   "metadata": {},
   "outputs": [
    {
     "data": {
      "text/html": [
       "<div>\n",
       "<style scoped>\n",
       "    .dataframe tbody tr th:only-of-type {\n",
       "        vertical-align: middle;\n",
       "    }\n",
       "\n",
       "    .dataframe tbody tr th {\n",
       "        vertical-align: top;\n",
       "    }\n",
       "\n",
       "    .dataframe thead th {\n",
       "        text-align: right;\n",
       "    }\n",
       "</style>\n",
       "<table border=\"1\" class=\"dataframe\">\n",
       "  <thead>\n",
       "    <tr style=\"text-align: right;\">\n",
       "      <th></th>\n",
       "      <th>0</th>\n",
       "      <th>1</th>\n",
       "      <th>2</th>\n",
       "      <th>3</th>\n",
       "      <th>4</th>\n",
       "      <th>5</th>\n",
       "      <th>6</th>\n",
       "    </tr>\n",
       "  </thead>\n",
       "  <tbody>\n",
       "    <tr>\n",
       "      <th>U_ДС (В)</th>\n",
       "      <td>10</td>\n",
       "      <td>12</td>\n",
       "      <td>14</td>\n",
       "      <td>16</td>\n",
       "      <td>18</td>\n",
       "      <td>20</td>\n",
       "      <td>22</td>\n",
       "    </tr>\n",
       "    <tr>\n",
       "      <th>I_ДС (мА)</th>\n",
       "      <td>16</td>\n",
       "      <td>23</td>\n",
       "      <td>28</td>\n",
       "      <td>32</td>\n",
       "      <td>37</td>\n",
       "      <td>42</td>\n",
       "      <td>47</td>\n",
       "    </tr>\n",
       "  </tbody>\n",
       "</table>\n",
       "</div>"
      ],
      "text/plain": [
       "            0   1   2   3   4   5   6\n",
       "U_ДС (В)   10  12  14  16  18  20  22\n",
       "I_ДС (мА)  16  23  28  32  37  42  47"
      ]
     },
     "metadata": {},
     "output_type": "display_data"
    },
    {
     "data": {
      "text/html": [
       "<div>\n",
       "<style scoped>\n",
       "    .dataframe tbody tr th:only-of-type {\n",
       "        vertical-align: middle;\n",
       "    }\n",
       "\n",
       "    .dataframe tbody tr th {\n",
       "        vertical-align: top;\n",
       "    }\n",
       "\n",
       "    .dataframe thead th {\n",
       "        text-align: right;\n",
       "    }\n",
       "</style>\n",
       "<table border=\"1\" class=\"dataframe\">\n",
       "  <thead>\n",
       "    <tr style=\"text-align: right;\">\n",
       "      <th></th>\n",
       "      <th>0</th>\n",
       "      <th>1</th>\n",
       "      <th>2</th>\n",
       "      <th>3</th>\n",
       "      <th>4</th>\n",
       "      <th>5</th>\n",
       "      <th>6</th>\n",
       "    </tr>\n",
       "  </thead>\n",
       "  <tbody>\n",
       "    <tr>\n",
       "      <th>U_ДL (В)</th>\n",
       "      <td>10</td>\n",
       "      <td>12</td>\n",
       "      <td>14</td>\n",
       "      <td>16</td>\n",
       "      <td>18</td>\n",
       "      <td>20</td>\n",
       "      <td>22</td>\n",
       "    </tr>\n",
       "    <tr>\n",
       "      <th>I_ДL (мА)</th>\n",
       "      <td>15</td>\n",
       "      <td>23</td>\n",
       "      <td>28</td>\n",
       "      <td>32</td>\n",
       "      <td>36</td>\n",
       "      <td>41</td>\n",
       "      <td>46</td>\n",
       "    </tr>\n",
       "  </tbody>\n",
       "</table>\n",
       "</div>"
      ],
      "text/plain": [
       "            0   1   2   3   4   5   6\n",
       "U_ДL (В)   10  12  14  16  18  20  22\n",
       "I_ДL (мА)  15  23  28  32  36  41  46"
      ]
     },
     "metadata": {},
     "output_type": "display_data"
    },
    {
     "data": {
      "text/html": [
       "<div>\n",
       "<style scoped>\n",
       "    .dataframe tbody tr th:only-of-type {\n",
       "        vertical-align: middle;\n",
       "    }\n",
       "\n",
       "    .dataframe tbody tr th {\n",
       "        vertical-align: top;\n",
       "    }\n",
       "\n",
       "    .dataframe thead th {\n",
       "        text-align: right;\n",
       "    }\n",
       "</style>\n",
       "<table border=\"1\" class=\"dataframe\">\n",
       "  <thead>\n",
       "    <tr style=\"text-align: right;\">\n",
       "      <th></th>\n",
       "      <th>0</th>\n",
       "      <th>1</th>\n",
       "      <th>2</th>\n",
       "      <th>3</th>\n",
       "      <th>4</th>\n",
       "      <th>5</th>\n",
       "      <th>6</th>\n",
       "    </tr>\n",
       "  </thead>\n",
       "  <tbody>\n",
       "    <tr>\n",
       "      <th>U_d (В)</th>\n",
       "      <td>10</td>\n",
       "      <td>12</td>\n",
       "      <td>14</td>\n",
       "      <td>16</td>\n",
       "      <td>18</td>\n",
       "      <td>20</td>\n",
       "      <td>22</td>\n",
       "    </tr>\n",
       "    <tr>\n",
       "      <th>I_d (мА)</th>\n",
       "      <td>15</td>\n",
       "      <td>23</td>\n",
       "      <td>28</td>\n",
       "      <td>32</td>\n",
       "      <td>36</td>\n",
       "      <td>41</td>\n",
       "      <td>46</td>\n",
       "    </tr>\n",
       "  </tbody>\n",
       "</table>\n",
       "</div>"
      ],
      "text/plain": [
       "           0   1   2   3   4   5   6\n",
       "U_d (В)   10  12  14  16  18  20  22\n",
       "I_d (мА)  15  23  28  32  36  41  46"
      ]
     },
     "metadata": {},
     "output_type": "display_data"
    }
   ],
   "source": [
    "display(df_5_1.T)\n",
    "display(df_5_2.T)\n",
    "display(df_5_3.T)"
   ]
  },
  {
   "cell_type": "code",
   "execution_count": 5,
   "metadata": {},
   "outputs": [
    {
     "data": {
      "image/png": "[encoded data removed]",
      "text/plain": [
       "<Figure size 800x600 with 1 Axes>"
      ]
     },
     "metadata": {},
     "output_type": "display_data"
    }
   ],
   "source": [
    "U_dc = [10, 12, 14, 16, 18, 20, 22]\n",
    "I_dc = [16, 23, 28, 32, 37, 42, 47]\n",
    "\n",
    "plt.figure(figsize=(8, 6))\n",
    "sns.regplot(y=U_dc, x=I_dc, marker='o' )\n",
    "\n",
    "plt.ylabel('U_ДС (В)')\n",
    "plt.xlabel('I_ДС (мА)')\n",
    "plt.grid(True)\n",
    "\n",
    "plt.show()\n"
   ]
  },
  {
   "cell_type": "code",
   "execution_count": 6,
   "metadata": {},
   "outputs": [
    {
     "data": {
      "text/plain": [
       "2.5"
      ]
     },
     "execution_count": 6,
     "metadata": {},
     "output_type": "execute_result"
    }
   ],
   "source": [
    "from scipy.stats import linregress\n",
    "_ = linregress(U_dc, I_dc)\n",
    "X_c = _.slope\n",
    "X_c"
   ]
  },
  {
   "cell_type": "code",
   "execution_count": 7,
   "metadata": {},
   "outputs": [
    {
     "data": {
      "text/plain": [
       "314"
      ]
     },
     "execution_count": 7,
     "metadata": {},
     "output_type": "execute_result"
    }
   ],
   "source": [
    "OMEGA = 2 * np.pi * 50\n",
    "OMEGA = round(OMEGA)\n",
    "OMEGA"
   ]
  },
  {
   "cell_type": "code",
   "execution_count": 8,
   "metadata": {},
   "outputs": [
    {
     "data": {
      "text/plain": [
       "0.001"
      ]
     },
     "execution_count": 8,
     "metadata": {},
     "output_type": "execute_result"
    }
   ],
   "source": [
    "C = 1/(OMEGA * X_c)\n",
    "C = round(C,3)\n",
    "C"
   ]
  },
  {
   "cell_type": "code",
   "execution_count": 9,
   "metadata": {},
   "outputs": [
    {
     "data": {
      "image/png": "[encoded data removed]",
      "text/plain": [
       "<Figure size 800x600 with 1 Axes>"
      ]
     },
     "metadata": {},
     "output_type": "display_data"
    }
   ],
   "source": [
    "U_dl = [10, 12, 14, 16, 18, 20, 22]\n",
    "I_dl = [15, 23, 28, 32, 36, 41, 46]\n",
    "\n",
    "plt.figure(figsize=(8, 6))\n",
    "sns.regplot(y=U_dl, x=I_dl, marker='o')\n",
    "\n",
    "plt.ylabel('U_ДL (В)')\n",
    "plt.xlabel('I_ДL (мА)')\n",
    "plt.grid(True)\n",
    "\n",
    "plt.show()"
   ]
  },
  {
   "cell_type": "code",
   "execution_count": 10,
   "metadata": {},
   "outputs": [
    {
     "data": {
      "text/plain": [
       "2.45"
      ]
     },
     "execution_count": 10,
     "metadata": {},
     "output_type": "execute_result"
    }
   ],
   "source": [
    "from scipy.stats import linregress\n",
    "_ = linregress(U_dl, I_dl)\n",
    "Z_L = _.slope\n",
    "Z_L = round(Z_L,2)\n",
    "Z_L"
   ]
  },
  {
   "cell_type": "code",
   "execution_count": 11,
   "metadata": {},
   "outputs": [
    {
     "data": {
      "text/plain": [
       "314"
      ]
     },
     "execution_count": 11,
     "metadata": {},
     "output_type": "execute_result"
    }
   ],
   "source": [
    "OMEGA"
   ]
  },
  {
   "cell_type": "code",
   "execution_count": 12,
   "metadata": {},
   "outputs": [
    {
     "name": "stderr",
     "output_type": "stream",
     "text": [
      "C:\\Users\\replicaCortex\\AppData\\Local\\Temp\\ipykernel_7824\\2911025274.py:4: RuntimeWarning: invalid value encountered in scalar power\n",
      "  L = (1/OMEGA) * (Z_L ** 2 - R_l ** 2) ** (1/2)\n"
     ]
    },
    {
     "data": {
      "text/plain": [
       "nan"
      ]
     },
     "execution_count": 12,
     "metadata": {},
     "output_type": "execute_result"
    }
   ],
   "source": [
    "# А тут начинаются хиханьки да хаханьки. Дело в том, что tg, которым мы считаем, является ковариацией, то есть тенденцией изменения U и I. Если U = 1, то I = 2,45 ⇒ оно не может быть слишком большим, а значит, либо ошибка в формуле, либо...\n",
    "\n",
    "R_l = 22\n",
    "L = (1/OMEGA) * (Z_L ** 2 - R_l ** 2) ** (1/2)\n",
    "L"
   ]
  },
  {
   "cell_type": "code",
   "execution_count": 13,
   "metadata": {},
   "outputs": [
    {
     "data": {
      "text/html": [
       "<div>\n",
       "<style scoped>\n",
       "    .dataframe tbody tr th:only-of-type {\n",
       "        vertical-align: middle;\n",
       "    }\n",
       "\n",
       "    .dataframe tbody tr th {\n",
       "        vertical-align: top;\n",
       "    }\n",
       "\n",
       "    .dataframe thead th {\n",
       "        text-align: right;\n",
       "    }\n",
       "</style>\n",
       "<table border=\"1\" class=\"dataframe\">\n",
       "  <thead>\n",
       "    <tr style=\"text-align: right;\">\n",
       "      <th></th>\n",
       "      <th>0</th>\n",
       "      <th>1</th>\n",
       "      <th>2</th>\n",
       "      <th>3</th>\n",
       "      <th>4</th>\n",
       "      <th>5</th>\n",
       "      <th>6</th>\n",
       "    </tr>\n",
       "  </thead>\n",
       "  <tbody>\n",
       "    <tr>\n",
       "      <th>U_d (В)</th>\n",
       "      <td>10</td>\n",
       "      <td>12</td>\n",
       "      <td>14</td>\n",
       "      <td>16</td>\n",
       "      <td>18</td>\n",
       "      <td>20</td>\n",
       "      <td>22</td>\n",
       "    </tr>\n",
       "    <tr>\n",
       "      <th>I_d (мА)</th>\n",
       "      <td>15</td>\n",
       "      <td>23</td>\n",
       "      <td>28</td>\n",
       "      <td>32</td>\n",
       "      <td>36</td>\n",
       "      <td>41</td>\n",
       "      <td>46</td>\n",
       "    </tr>\n",
       "    <tr>\n",
       "      <th>U_m</th>\n",
       "      <td>4</td>\n",
       "      <td>5</td>\n",
       "      <td>5</td>\n",
       "      <td>6</td>\n",
       "      <td>6</td>\n",
       "      <td>6</td>\n",
       "      <td>7</td>\n",
       "    </tr>\n",
       "    <tr>\n",
       "      <th>I_m</th>\n",
       "      <td>5</td>\n",
       "      <td>7</td>\n",
       "      <td>7</td>\n",
       "      <td>8</td>\n",
       "      <td>8</td>\n",
       "      <td>9</td>\n",
       "      <td>10</td>\n",
       "    </tr>\n",
       "  </tbody>\n",
       "</table>\n",
       "</div>"
      ],
      "text/plain": [
       "           0   1   2   3   4   5   6\n",
       "U_d (В)   10  12  14  16  18  20  22\n",
       "I_d (мА)  15  23  28  32  36  41  46\n",
       "U_m        4   5   5   6   6   6   7\n",
       "I_m        5   7   7   8   8   9  10"
      ]
     },
     "execution_count": 13,
     "metadata": {},
     "output_type": "execute_result"
    }
   ],
   "source": [
    "df_5_3[\"U_m\"] = df_5_3[\"U_d (В)\"].apply(lambda x: round((2 * x) ** (1/2)))\n",
    "df_5_3[\"I_m\"] = df_5_3[\"I_d (мА)\"].apply(lambda x: round((2 * x) ** (1/2)))\n",
    "df_5_3.T"
   ]
  },
  {
   "cell_type": "code",
   "execution_count": 14,
   "metadata": {},
   "outputs": [
    {
     "data": {
      "image/png": "[encoded data removed]",
      "text/plain": [
       "<Figure size 800x600 with 1 Axes>"
      ]
     },
     "metadata": {},
     "output_type": "display_data"
    },
    {
     "data": {
      "text/plain": [
       "1.6"
      ]
     },
     "metadata": {},
     "output_type": "display_data"
    }
   ],
   "source": [
    "U_m = [4, 5, 5, 6, 6, 6, 7]\n",
    "I_m = [5, 7, 7, 8, 8, 9, 10]\n",
    "\n",
    "plt.figure(figsize=(8, 6))\n",
    "sns.regplot(y=U_m, x=I_m, marker='o')\n",
    "\n",
    "plt.ylabel('U_m (В)')\n",
    "plt.xlabel('I_m (мА)')\n",
    "plt.grid(True)\n",
    "\n",
    "plt.show()\n",
    "\n",
    "regression_result_m = linregress(U_m, I_m)\n",
    "Z = regression_result_m.slope\n",
    "display(round(Z,2))"
   ]
  },
  {
   "cell_type": "code",
   "execution_count": 15,
   "metadata": {},
   "outputs": [
    {
     "data": {
      "text/plain": [
       "nan"
      ]
     },
     "execution_count": 15,
     "metadata": {},
     "output_type": "execute_result"
    }
   ],
   "source": [
    "R = 220\n",
    "Z_alt = (R**2 + (OMEGA * L - 1/(OMEGA * C)) ** 2) ** (1/2)\n",
    "Z_alt"
   ]
  },
  {
   "cell_type": "markdown",
   "metadata": {},
   "source": [
    "# Построение Векторной диаграммы\n",
    "Теперь R = R_l"
   ]
  },
  {
   "cell_type": "code",
   "execution_count": 16,
   "metadata": {},
   "outputs": [],
   "source": [
    "R = R_l"
   ]
  },
  {
   "cell_type": "code",
   "execution_count": 17,
   "metadata": {},
   "outputs": [
    {
     "data": {
      "text/plain": [
       "3.48"
      ]
     },
     "metadata": {},
     "output_type": "display_data"
    },
    {
     "data": {
      "text/plain": [
       "nan"
      ]
     },
     "metadata": {},
     "output_type": "display_data"
    },
    {
     "data": {
      "text/plain": [
       "11.09"
      ]
     },
     "metadata": {},
     "output_type": "display_data"
    },
    {
     "data": {
      "text/plain": [
       "76.61"
      ]
     },
     "metadata": {},
     "output_type": "display_data"
    }
   ],
   "source": [
    "df = pd.DataFrame()\n",
    "df[\"I_m\"] = df_5_3[\"U_m\"].apply(lambda x: x/Z)\n",
    "df[\"U_L\"] = df[\"I_m\"].apply(lambda x: x * OMEGA * L)\n",
    "df[\"U_c\"] = df[\"I_m\"].apply(lambda x: x / (OMEGA * C))\n",
    "df[\"U_r\"] = df[\"I_m\"].apply(lambda x: x * R)\n",
    "\n",
    "I_m = (round(df[\"I_m\"].mean(),2))\n",
    "U_L = (round(df[\"U_L\"].mean(),2))\n",
    "U_c = (round(df[\"U_c\"].mean(),2))\n",
    "U_r = (round(df[\"U_r\"].mean(),2))\n",
    "\n",
    "# display I_m, U_L, etc\n",
    "\n",
    "display(I_m)\n",
    "display(U_L)\n",
    "display(U_c)\n",
    "display(U_r)"
   ]
  },
  {
   "cell_type": "code",
   "execution_count": 18,
   "metadata": {},
   "outputs": [
    {
     "data": {
      "text/plain": [
       "nan"
      ]
     },
     "execution_count": 18,
     "metadata": {},
     "output_type": "execute_result"
    }
   ],
   "source": [
    "U_m = (U_r ** 2 + (U_L - U_c) ** 2) ** (1/2) \n",
    "U_m"
   ]
  },
  {
   "cell_type": "code",
   "execution_count": 19,
   "metadata": {},
   "outputs": [
    {
     "data": {
      "text/plain": [
       "nan"
      ]
     },
     "execution_count": 19,
     "metadata": {},
     "output_type": "execute_result"
    }
   ],
   "source": [
    "tg_fi = ((OMEGA * L - 1) / (OMEGA * C)) / R_l\n",
    "tg_fi"
   ]
  }
 ],
 "metadata": {
  "kernelspec": {
   "display_name": "venv",
   "language": "python",
   "name": "python3"
  },
  "language_info": {
   "codemirror_mode": {
    "name": "ipython",
    "version": 3
   },
   "file_extension": ".py",
   "mimetype": "text/x-python",
   "name": "python",
   "nbconvert_exporter": "python",
   "pygments_lexer": "ipython3",
   "version": "3.10.6"
  }
 },
 "nbformat": 4,
 "nbformat_minor": 2
}

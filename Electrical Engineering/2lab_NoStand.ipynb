{
 "cells": [
  {
   "cell_type": "code",
   "execution_count": 1,
   "metadata": {},
   "outputs": [],
   "source": [
    "import pandas as pd\n",
    "import numpy as np\n",
    "import matplotlib.pyplot as plt\n",
    "import seaborn as sns\n",
    "from IPython.display import display"
   ]
  },
  {
   "cell_type": "code",
   "execution_count": 6,
   "metadata": {},
   "outputs": [
    {
     "data": {
      "text/html": [
       "<div>\n",
       "<style scoped>\n",
       "    .dataframe tbody tr th:only-of-type {\n",
       "        vertical-align: middle;\n",
       "    }\n",
       "\n",
       "    .dataframe tbody tr th {\n",
       "        vertical-align: top;\n",
       "    }\n",
       "\n",
       "    .dataframe thead th {\n",
       "        text-align: right;\n",
       "    }\n",
       "</style>\n",
       "<table border=\"1\" class=\"dataframe\">\n",
       "  <thead>\n",
       "    <tr style=\"text-align: right;\">\n",
       "      <th></th>\n",
       "      <th>0</th>\n",
       "      <th>1</th>\n",
       "      <th>2</th>\n",
       "      <th>3</th>\n",
       "      <th>4</th>\n",
       "      <th>5</th>\n",
       "    </tr>\n",
       "  </thead>\n",
       "  <tbody>\n",
       "    <tr>\n",
       "      <th>Параметр</th>\n",
       "      <td>I1</td>\n",
       "      <td>I2</td>\n",
       "      <td>I3</td>\n",
       "      <td>U_r1</td>\n",
       "      <td>U_r2</td>\n",
       "      <td>U_r3</td>\n",
       "    </tr>\n",
       "    <tr>\n",
       "      <th>При 2 источниках</th>\n",
       "      <td>26.25</td>\n",
       "      <td>37.5</td>\n",
       "      <td>63.75</td>\n",
       "      <td>2.625</td>\n",
       "      <td>5.625</td>\n",
       "      <td>6.375</td>\n",
       "    </tr>\n",
       "    <tr>\n",
       "      <th>При источнике E1</th>\n",
       "      <td>56.25</td>\n",
       "      <td>22.5</td>\n",
       "      <td>33.75</td>\n",
       "      <td>NaN</td>\n",
       "      <td>NaN</td>\n",
       "      <td>NaN</td>\n",
       "    </tr>\n",
       "    <tr>\n",
       "      <th>При источнике E2</th>\n",
       "      <td>30.0</td>\n",
       "      <td>60.0</td>\n",
       "      <td>30.0</td>\n",
       "      <td>NaN</td>\n",
       "      <td>NaN</td>\n",
       "      <td>NaN</td>\n",
       "    </tr>\n",
       "  </tbody>\n",
       "</table>\n",
       "</div>"
      ],
      "text/plain": [
       "                      0     1      2      3      4      5\n",
       "Параметр             I1    I2     I3   U_r1   U_r2   U_r3\n",
       "При 2 источниках  26.25  37.5  63.75  2.625  5.625  6.375\n",
       "При источнике E1  56.25  22.5  33.75    NaN    NaN    NaN\n",
       "При источнике E2   30.0  60.0   30.0    NaN    NaN    NaN"
      ]
     },
     "metadata": {},
     "output_type": "display_data"
    },
    {
     "data": {
      "text/html": [
       "<div>\n",
       "<style scoped>\n",
       "    .dataframe tbody tr th:only-of-type {\n",
       "        vertical-align: middle;\n",
       "    }\n",
       "\n",
       "    .dataframe tbody tr th {\n",
       "        vertical-align: top;\n",
       "    }\n",
       "\n",
       "    .dataframe thead th {\n",
       "        text-align: right;\n",
       "    }\n",
       "</style>\n",
       "<table border=\"1\" class=\"dataframe\">\n",
       "  <thead>\n",
       "    <tr style=\"text-align: right;\">\n",
       "      <th></th>\n",
       "      <th>Параметр</th>\n",
       "      <th>При 2 источниках</th>\n",
       "      <th>При источнике E1</th>\n",
       "      <th>При источнике E2</th>\n",
       "    </tr>\n",
       "  </thead>\n",
       "  <tbody>\n",
       "    <tr>\n",
       "      <th>0</th>\n",
       "      <td>I1</td>\n",
       "      <td>26.250</td>\n",
       "      <td>56.25</td>\n",
       "      <td>30.0</td>\n",
       "    </tr>\n",
       "    <tr>\n",
       "      <th>1</th>\n",
       "      <td>I2</td>\n",
       "      <td>37.500</td>\n",
       "      <td>22.50</td>\n",
       "      <td>60.0</td>\n",
       "    </tr>\n",
       "    <tr>\n",
       "      <th>2</th>\n",
       "      <td>I3</td>\n",
       "      <td>63.750</td>\n",
       "      <td>33.75</td>\n",
       "      <td>30.0</td>\n",
       "    </tr>\n",
       "    <tr>\n",
       "      <th>3</th>\n",
       "      <td>U_r1</td>\n",
       "      <td>2.625</td>\n",
       "      <td>NaN</td>\n",
       "      <td>NaN</td>\n",
       "    </tr>\n",
       "    <tr>\n",
       "      <th>4</th>\n",
       "      <td>U_r2</td>\n",
       "      <td>5.625</td>\n",
       "      <td>NaN</td>\n",
       "      <td>NaN</td>\n",
       "    </tr>\n",
       "    <tr>\n",
       "      <th>5</th>\n",
       "      <td>U_r3</td>\n",
       "      <td>6.375</td>\n",
       "      <td>NaN</td>\n",
       "      <td>NaN</td>\n",
       "    </tr>\n",
       "  </tbody>\n",
       "</table>\n",
       "</div>"
      ],
      "text/plain": [
       "  Параметр  При 2 источниках  При источнике E1  При источнике E2\n",
       "0       I1            26.250             56.25              30.0\n",
       "1       I2            37.500             22.50              60.0\n",
       "2       I3            63.750             33.75              30.0\n",
       "3     U_r1             2.625               NaN               NaN\n",
       "4     U_r2             5.625               NaN               NaN\n",
       "5     U_r3             6.375               NaN               NaN"
      ]
     },
     "metadata": {},
     "output_type": "display_data"
    }
   ],
   "source": [
    "data = {\n",
    "    \"Параметр\": [\"I1\", \"I2\", \"I3\", \"U_r1\", \"U_r2\", \"U_r3\"],\n",
    "    \"При 2 источниках\": [26.25, 37.5, 63.75, 2.625, 5.625, 6.375],\n",
    "    \"При источнике E1\": [56.25, 22.5, 33.75, None, None, None],\n",
    "    \"При источнике E2\": [30, 60, 30, None, None, None]\n",
    "}\n",
    "\n",
    "# Создаем DataFrame\n",
    "df = pd.DataFrame(data)\n",
    "\n",
    "display(df.T)\n",
    "display(df)"
   ]
  },
  {
   "cell_type": "code",
   "execution_count": 11,
   "metadata": {},
   "outputs": [
    {
     "data": {
      "text/html": [
       "<div>\n",
       "<style scoped>\n",
       "    .dataframe tbody tr th:only-of-type {\n",
       "        vertical-align: middle;\n",
       "    }\n",
       "\n",
       "    .dataframe tbody tr th {\n",
       "        vertical-align: top;\n",
       "    }\n",
       "\n",
       "    .dataframe thead th {\n",
       "        text-align: right;\n",
       "    }\n",
       "</style>\n",
       "<table border=\"1\" class=\"dataframe\">\n",
       "  <thead>\n",
       "    <tr style=\"text-align: right;\">\n",
       "      <th></th>\n",
       "      <th>I_кз</th>\n",
       "      <th>E_г</th>\n",
       "      <th>R_г</th>\n",
       "    </tr>\n",
       "  </thead>\n",
       "  <tbody>\n",
       "    <tr>\n",
       "      <th>0</th>\n",
       "      <td>170</td>\n",
       "      <td>10200.0</td>\n",
       "      <td>60.0</td>\n",
       "    </tr>\n",
       "  </tbody>\n",
       "</table>\n",
       "</div>"
      ],
      "text/plain": [
       "   I_кз      E_г   R_г\n",
       "0   170  10200.0  60.0"
      ]
     },
     "execution_count": 11,
     "metadata": {},
     "output_type": "execute_result"
    }
   ],
   "source": [
    "I_кз = 170 \n",
    "R_г = (100 * 150) / (100 + 150)\n",
    "U0 = I_кз * R_г \n",
    "\n",
    "data_2п = {\"I_кз\": [I_кз],\n",
    "           \"E_г\": [U0],\n",
    "           \"R_г\": [R_г]}\n",
    "\n",
    "data_2п = pd.DataFrame(data_2п)\n",
    "data_2п"
   ]
  },
  {
   "cell_type": "code",
   "execution_count": 19,
   "metadata": {},
   "outputs": [
    {
     "data": {
      "text/html": [
       "<div>\n",
       "<style scoped>\n",
       "    .dataframe tbody tr th:only-of-type {\n",
       "        vertical-align: middle;\n",
       "    }\n",
       "\n",
       "    .dataframe tbody tr th {\n",
       "        vertical-align: top;\n",
       "    }\n",
       "\n",
       "    .dataframe thead th {\n",
       "        text-align: right;\n",
       "    }\n",
       "</style>\n",
       "<table border=\"1\" class=\"dataframe\">\n",
       "  <thead>\n",
       "    <tr style=\"text-align: right;\">\n",
       "      <th></th>\n",
       "      <th>0</th>\n",
       "      <th>1</th>\n",
       "      <th>2</th>\n",
       "      <th>3</th>\n",
       "      <th>4</th>\n",
       "      <th>5</th>\n",
       "    </tr>\n",
       "  </thead>\n",
       "  <tbody>\n",
       "    <tr>\n",
       "      <th>Сопротивление</th>\n",
       "      <td>10.00</td>\n",
       "      <td>47.00</td>\n",
       "      <td>68.00</td>\n",
       "      <td>100.00</td>\n",
       "      <td>150.00</td>\n",
       "      <td>220.00</td>\n",
       "    </tr>\n",
       "    <tr>\n",
       "      <th>Ток</th>\n",
       "      <td>146.71</td>\n",
       "      <td>95.32</td>\n",
       "      <td>79.68</td>\n",
       "      <td>63.75</td>\n",
       "      <td>48.57</td>\n",
       "      <td>36.42</td>\n",
       "    </tr>\n",
       "  </tbody>\n",
       "</table>\n",
       "</div>"
      ],
      "text/plain": [
       "                    0      1      2       3       4       5\n",
       "Сопротивление   10.00  47.00  68.00  100.00  150.00  220.00\n",
       "Ток            146.71  95.32  79.68   63.75   48.57   36.42"
      ]
     },
     "execution_count": 19,
     "metadata": {},
     "output_type": "execute_result"
    }
   ],
   "source": [
    "# Данные для создания DataFrame\n",
    "data_3п = {\n",
    "    \"Сопротивление\": [10, 47, 68, 100, 150, 220],\n",
    "    \"Ток\": [146.71, 95.32, 79.68, 63.75, 48.57, 36.42]\n",
    "}\n",
    "\n",
    "# Создаем DataFrame\n",
    "df_new = pd.DataFrame(data_3п)\n",
    "\n",
    "df_new.T\n"
   ]
  },
  {
   "cell_type": "markdown",
   "metadata": {},
   "source": [
    "# 2 пункт отчета"
   ]
  },
  {
   "cell_type": "code",
   "execution_count": 23,
   "metadata": {},
   "outputs": [
    {
     "data": {
      "text/plain": [
       "26.25"
      ]
     },
     "metadata": {},
     "output_type": "display_data"
    },
    {
     "data": {
      "text/plain": [
       "37.5"
      ]
     },
     "metadata": {},
     "output_type": "display_data"
    },
    {
     "data": {
      "text/plain": [
       "63.75"
      ]
     },
     "metadata": {},
     "output_type": "display_data"
    }
   ],
   "source": [
    "I1_e1 = 56.25\n",
    "I1_e2 = -30\n",
    "I1 = I1_e1 + I1_e2\n",
    "display(I1)\n",
    "\n",
    "I2_e1 = -22.5\n",
    "I2_e2 = 60\n",
    "I2 = I2_e1 + I2_e2\n",
    "display(I2)\n",
    "\n",
    "I3_e1 = 33.75\n",
    "I3_e2 = 30\n",
    "I3 = I3_e1 + I3_e2\n",
    "display(I3)"
   ]
  }
 ],
 "metadata": {
  "kernelspec": {
   "display_name": "venv",
   "language": "python",
   "name": "python3"
  },
  "language_info": {
   "codemirror_mode": {
    "name": "ipython",
    "version": 3
   },
   "file_extension": ".py",
   "mimetype": "text/x-python",
   "name": "python",
   "nbconvert_exporter": "python",
   "pygments_lexer": "ipython3",
   "version": "3.10.6"
  }
 },
 "nbformat": 4,
 "nbformat_minor": 2
}

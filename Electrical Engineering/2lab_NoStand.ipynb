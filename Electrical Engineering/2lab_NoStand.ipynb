{
 "cells": [
  {
   "cell_type": "code",
   "execution_count": 1,
   "metadata": {},
   "outputs": [],
   "source": [
    "import pandas as pd\n",
    "import numpy as np\n",
    "import matplotlib.pyplot as plt\n",
    "import seaborn as sns\n",
    "from IPython.display import display"
   ]
  },
  {
   "cell_type": "code",
   "execution_count": 4,
   "metadata": {},
   "outputs": [
    {
     "data": {
      "text/html": [
       "<div>\n",
       "<style scoped>\n",
       "    .dataframe tbody tr th:only-of-type {\n",
       "        vertical-align: middle;\n",
       "    }\n",
       "\n",
       "    .dataframe tbody tr th {\n",
       "        vertical-align: top;\n",
       "    }\n",
       "\n",
       "    .dataframe thead th {\n",
       "        text-align: right;\n",
       "    }\n",
       "</style>\n",
       "<table border=\"1\" class=\"dataframe\">\n",
       "  <thead>\n",
       "    <tr style=\"text-align: right;\">\n",
       "      <th></th>\n",
       "      <th>0</th>\n",
       "      <th>1</th>\n",
       "      <th>2</th>\n",
       "      <th>3</th>\n",
       "      <th>4</th>\n",
       "      <th>5</th>\n",
       "    </tr>\n",
       "  </thead>\n",
       "  <tbody>\n",
       "    <tr>\n",
       "      <th>Параметр</th>\n",
       "      <td>I1</td>\n",
       "      <td>I2</td>\n",
       "      <td>I3</td>\n",
       "      <td>U_r1</td>\n",
       "      <td>U_r2</td>\n",
       "      <td>U_r3</td>\n",
       "    </tr>\n",
       "    <tr>\n",
       "      <th>При 2 источниках</th>\n",
       "      <td>26.25</td>\n",
       "      <td>37.5</td>\n",
       "      <td>63.75</td>\n",
       "      <td>2.625</td>\n",
       "      <td>5.625</td>\n",
       "      <td>6.375</td>\n",
       "    </tr>\n",
       "    <tr>\n",
       "      <th>При источнике E1</th>\n",
       "      <td>56.25</td>\n",
       "      <td>22.5</td>\n",
       "      <td>33.75</td>\n",
       "      <td>NaN</td>\n",
       "      <td>NaN</td>\n",
       "      <td>NaN</td>\n",
       "    </tr>\n",
       "    <tr>\n",
       "      <th>При источнике E2</th>\n",
       "      <td>30.0</td>\n",
       "      <td>60.0</td>\n",
       "      <td>30.0</td>\n",
       "      <td>NaN</td>\n",
       "      <td>NaN</td>\n",
       "      <td>NaN</td>\n",
       "    </tr>\n",
       "  </tbody>\n",
       "</table>\n",
       "</div>"
      ],
      "text/plain": [
       "                      0     1      2      3      4      5\n",
       "Параметр             I1    I2     I3   U_r1   U_r2   U_r3\n",
       "При 2 источниках  26.25  37.5  63.75  2.625  5.625  6.375\n",
       "При источнике E1  56.25  22.5  33.75    NaN    NaN    NaN\n",
       "При источнике E2   30.0  60.0   30.0    NaN    NaN    NaN"
      ]
     },
     "execution_count": 4,
     "metadata": {},
     "output_type": "execute_result"
    }
   ],
   "source": [
    "data = {\n",
    "    \"Параметр\": [\"I1\", \"I2\", \"I3\", \"U_r1\", \"U_r2\", \"U_r3\"],\n",
    "    \"При 2 источниках\": [26.25, 37.5, 63.75, 2.625, 5.625, 6.375],\n",
    "    \"При источнике E1\": [56.25, 22.5, 33.75, None, None, None],\n",
    "    \"При источнике E2\": [30, 60, 30, None, None, None]\n",
    "}\n",
    "\n",
    "# Создаем DataFrame\n",
    "df = pd.DataFrame(data)\n",
    "\n",
    "df.T"
   ]
  }
 ],
 "metadata": {
  "kernelspec": {
   "display_name": "venv",
   "language": "python",
   "name": "python3"
  },
  "language_info": {
   "codemirror_mode": {
    "name": "ipython",
    "version": 3
   },
   "file_extension": ".py",
   "mimetype": "text/x-python",
   "name": "python",
   "nbconvert_exporter": "python",
   "pygments_lexer": "ipython3",
   "version": "3.10.6"
  }
 },
 "nbformat": 4,
 "nbformat_minor": 2
}

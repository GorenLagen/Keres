{
 "cells": [
  {
   "cell_type": "code",
   "execution_count": 1,
   "metadata": {},
   "outputs": [],
   "source": [
    "import numpy as np"
   ]
  },
  {
   "cell_type": "markdown",
   "metadata": {},
   "source": [
    "# Решение через заземление (бля 😡)"
   ]
  },
  {
   "cell_type": "code",
   "execution_count": 2,
   "metadata": {},
   "outputs": [
    {
     "name": "stdout",
     "output_type": "stream",
     "text": [
      "Решение системы уравнений (φ1, φ2, φ3): [7.42780749 7.02673797 5.55080214]\n"
     ]
    }
   ],
   "source": [
    "E = 9\n",
    "R1, R2, R3, R4, R5, R6 = 1,2,3,4,5,6\n",
    "\n",
    "g11 = 1/R4 + 1/R5 + 1/R6\n",
    "g22 = 1/R2 + 1/R3 + 1/R5\n",
    "g33 = 1/R2 + 1/R6 + 1/R1 \n",
    "\n",
    "g12 = -(1/R5)\n",
    "g13 = -(1/R6)\n",
    "g21 = -(1/R5)\n",
    "g23 = -(1/R2)\n",
    "g31 = -(1/R6)\n",
    "g32 = -(1/R2)\n",
    "\n",
    "J11 = E/R4\n",
    "J22 = E/R3\n",
    "J33 = E/R2\n",
    "\n",
    "A = np.array([[g11, g12, g13],\n",
    "              [g21, g22, g23],\n",
    "              [g31, g32, g33]])\n",
    "\n",
    "b = np.array([J11, J22, J33])\n",
    "\n",
    "phi = np.linalg.solve(A, b)\n",
    "\n",
    "print(\"Решение системы уравнений (φ1, φ2, φ3):\", phi)"
   ]
  },
  {
   "cell_type": "code",
   "execution_count": 3,
   "metadata": {},
   "outputs": [
    {
     "data": {
      "text/plain": [
       "-0.31283422459893034"
      ]
     },
     "execution_count": 3,
     "metadata": {},
     "output_type": "execute_result"
    }
   ],
   "source": [
    "(phi[2] - phi[0]) / R6"
   ]
  }
 ],
 "metadata": {
  "kernelspec": {
   "display_name": "venv",
   "language": "python",
   "name": "python3"
  },
  "language_info": {
   "codemirror_mode": {
    "name": "ipython",
    "version": 3
   },
   "file_extension": ".py",
   "mimetype": "text/x-python",
   "name": "python",
   "nbconvert_exporter": "python",
   "pygments_lexer": "ipython3",
   "version": "3.10.6"
  }
 },
 "nbformat": 4,
 "nbformat_minor": 2
}
